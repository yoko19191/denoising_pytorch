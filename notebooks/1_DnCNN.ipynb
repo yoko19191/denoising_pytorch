{
 "cells": [
  {
   "cell_type": "markdown",
   "metadata": {},
   "source": [
    "## DnCNN Experiments\n",
    "\n"
   ]
  },
  {
   "cell_type": "code",
   "execution_count": 1,
   "metadata": {},
   "outputs": [],
   "source": [
    "# import built-in liberies\n",
    "import sys\n",
    "import os\n",
    "import glob\n",
    "\n",
    "# import bsic liberies\n",
    "import numpy as np\n",
    "import matplotlib.pyplot as plt\n",
    "import cv2\n",
    "\n",
    "# import torch liberies\n",
    "import torch\n",
    "import torch.nn as nn\n",
    "from torch.utils.data import Dataset, DataLoader, random_split\n",
    "import torchvision.transforms as transforms\n",
    "\n",
    "# import custom liberies\n",
    "sys.path.insert(0, \"..\")\n",
    "from utils import process, visualize\n",
    "from models.DnCNN import DnCNN\n",
    "\n",
    "import ipywidgets as widgets\n",
    "from IPython.display import display\n",
    "%matplotlib inline"
   ]
  },
  {
   "cell_type": "markdown",
   "metadata": {},
   "source": [
    "### Define DnCNN Network"
   ]
  },
  {
   "cell_type": "code",
   "execution_count": 2,
   "metadata": {},
   "outputs": [],
   "source": [
    "class DnCNN(nn.Module):\n",
    "    def __init__(self, channels=1, num_layers=17, features=64):\n",
    "        super(DnCNN, self).__init__()\n",
    "        layers = [\n",
    "            nn.Conv2d(channels, features, kernel_size=3, padding=1),\n",
    "            nn.ReLU(inplace=True)\n",
    "        ]\n",
    "\n",
    "        for _ in range(num_layers - 2):\n",
    "            layers.append(nn.Conv2d(features, features, kernel_size=3, padding=1))\n",
    "            layers.append(nn.BatchNorm2d(features))\n",
    "            layers.append(nn.ReLU(inplace=True))\n",
    "\n",
    "        layers.append(nn.Conv2d(features, channels, kernel_size=3, padding=1))\n",
    "\n",
    "        self.dncnn = nn.Sequential(*layers)\n",
    "\n",
    "    def forward(self, x):\n",
    "        out = self.dncnn(x)\n",
    "        return x - out\n"
   ]
  },
  {
   "cell_type": "markdown",
   "metadata": {},
   "source": [
    "### Parepare CT Sinogram Dataset and Dataloader"
   ]
  },
  {
   "cell_type": "code",
   "execution_count": 3,
   "metadata": {},
   "outputs": [],
   "source": [
    "# define the custom dataset\n",
    "class CTSinogramDataset(Dataset):\n",
    "    def __init__(self, clean_folder, noisy_folder, transform=None):\n",
    "        self.clean_folder = clean_folder\n",
    "        self.noisy_folder = noisy_folder\n",
    "        self.transform = transform\n",
    "        self.patient_ids = sorted(os.listdir(clean_folder))\n",
    "\n",
    "        self.clean_slices = {}\n",
    "        self.noisy_slices = {}\n",
    "        for patient_id in self.patient_ids:\n",
    "            clean_patient_folder = os.path.join(clean_folder, patient_id)\n",
    "            noisy_patient_folder = os.path.join(noisy_folder, patient_id)\n",
    "\n",
    "            clean_slice_files = sorted(os.listdir(clean_patient_folder))\n",
    "            noisy_slice_files = sorted(os.listdir(noisy_patient_folder))\n",
    "\n",
    "            clean_slice_paths = [os.path.join(clean_patient_folder, f) for f in clean_slice_files]\n",
    "            noisy_slice_paths = [os.path.join(noisy_patient_folder, f) for f in noisy_slice_files]\n",
    "\n",
    "            self.clean_slices[patient_id] = clean_slice_paths\n",
    "            self.noisy_slices[patient_id] = noisy_slice_paths\n",
    "\n",
    "    def __len__(self):\n",
    "        return len(self.patient_ids)\n",
    "\n",
    "    def __getitem__(self, index):\n",
    "        patient_id = self.patient_ids[index]\n",
    "\n",
    "        clean_slice_paths = self.clean_slices[patient_id]\n",
    "        noisy_slice_paths = self.noisy_slices[patient_id]\n",
    "\n",
    "        clean_slices = [cv2.imread(path, cv2.IMREAD_GRAYSCALE) for path in clean_slice_paths]\n",
    "        noisy_slices = [cv2.imread(path, cv2.IMREAD_GRAYSCALE) for path in noisy_slice_paths]\n",
    "        \n",
    "        if self.transform is not None:\n",
    "            clean_slices = [self.transform(clean_slice) for clean_slice in clean_slices]\n",
    "            noisy_slices = [self.transform(noisy_slice) for noisy_slice in noisy_slices]\n",
    "        else:\n",
    "            clean_slices = [torch.from_numpy(clean_slice / 255.0).unsqueeze(0) for clean_slice in clean_slices]\n",
    "            noisy_slices = [torch.from_numpy(noisy_slice / 255.0).unsqueeze(0) for noisy_slice in noisy_slices]\n",
    "\n",
    "        return torch.stack(clean_slices), torch.stack(noisy_slices)"
   ]
  },
  {
   "cell_type": "code",
   "execution_count": 4,
   "metadata": {},
   "outputs": [
    {
     "name": "stdout",
     "output_type": "stream",
     "text": [
      "train:6, val:2, test:2\n"
     ]
    }
   ],
   "source": [
    "# \n",
    "clean_folder = \"../dataset/Kaggle_CT Low Dose Reconstruction/prepared_sinogram/lam_0\"\n",
    "noisy_folder = \"../dataset/Kaggle_CT Low Dose Reconstruction/prepared_sinogram/lam_5\"\n",
    "\n",
    "# define data transform\n",
    "transform = transforms.Compose([\n",
    "    transforms.ToTensor(),\n",
    "    transforms.Normalize((0.5,), (0.5,))\n",
    "])\n",
    "\n",
    "# create dataset\n",
    "dataset = CTSinogramDataset(clean_folder, noisy_folder, transform=transform)\n",
    "\n",
    "# calculate dataset length\n",
    "train_len = int(0.6 * len(dataset))\n",
    "val_len = int(0.2 * len(dataset))\n",
    "test_len = len(dataset) - train_len - val_len\n",
    "\n",
    "# random_split dataset\n",
    "train_dataset, val_dataset, test_dataset = random_split(dataset, [train_len, val_len, test_len])\n",
    "print(f\"train:{len(train_dataset)}, val:{len(val_dataset)}, test:{len(test_dataset)}\")\n",
    "\n",
    "train_loader = DataLoader(train_dataset, batch_size=1, shuffle=True, num_workers=8, pin_memory=True)\n",
    "val_loader = DataLoader(val_dataset, batch_size=1, shuffle=False, num_workers=8, pin_memory=True)\n",
    "test_loader = DataLoader(test_dataset, batch_size=1, shuffle=False, num_workers=8, pin_memory=True)\n"
   ]
  },
  {
   "cell_type": "code",
   "execution_count": 5,
   "metadata": {},
   "outputs": [
    {
     "data": {
      "text/plain": [
       "torch.Size([1, 128, 1, 256, 256])"
      ]
     },
     "execution_count": 5,
     "metadata": {},
     "output_type": "execute_result"
    }
   ],
   "source": [
    "patient_idx = 0\n",
    "dataiter = iter(train_loader)\n",
    "clean_batch, noisy_batch = dataiter.next()\n",
    "\n",
    "clean_batch.shape"
   ]
  },
  {
   "cell_type": "code",
   "execution_count": 6,
   "metadata": {},
   "outputs": [
    {
     "data": {
      "application/vnd.jupyter.widget-view+json": {
       "model_id": "d157b2074472404cab97d0489791936d",
       "version_major": 2,
       "version_minor": 0
      },
      "text/plain": [
       "interactive(children=(IntSlider(value=0, description='slice_idx', max=127), Output()), _dom_classes=('widget-i…"
      ]
     },
     "metadata": {},
     "output_type": "display_data"
    }
   ],
   "source": [
    "# visualize training CT silice\n",
    "\n",
    "    \n",
    "    \n",
    "visualize.plot_slices(clean_batch[0])\n"
   ]
  },
  {
   "cell_type": "markdown",
   "metadata": {},
   "source": [
    "### Training model"
   ]
  },
  {
   "cell_type": "code",
   "execution_count": null,
   "metadata": {},
   "outputs": [],
   "source": [
    "device = torch.device(\"cuda\" if torch.cuda.is_available() else \"cpu\")\n",
    "print(f\"device: {device}\")\n",
    "\n",
    "model = DnCNN().to(device)\n",
    "criterion = nn.MSELoss()\n",
    "optimizer = torch.optim.Adam(model.parameters(), lr=1e-3)\n",
    "\n",
    "\n",
    "num_epochs = 50\n",
    "\n",
    "\n",
    "for epoch in range(num_epochs):\n",
    "    model.train()\n",
    "    for i, (clean_sinograms, noisy_sinograms) in enumerate(train_loader):\n",
    "        clean_sinograms = clean_sinograms.to(device).float()\n",
    "        noisy_sinograms = noisy_sinograms.to(device).float()\n",
    "\n",
    "        outputs = model(noisy_sinograms.unsqueeze(1))\n",
    "        loss = criterion(outputs, clean_sinograms.unsqueeze(1))\n",
    "\n",
    "        optimizer.zero_grad()\n",
    "        loss.backward()\n",
    "        optimizer.step()\n",
    "\n",
    "    print(f\"Epoch [{epoch + 1}/{num_epochs}], Loss: {loss.item():.4f}\")"
   ]
  },
  {
   "cell_type": "markdown",
   "metadata": {},
   "source": [
    "### Evaluations model"
   ]
  },
  {
   "cell_type": "code",
   "execution_count": null,
   "metadata": {},
   "outputs": [],
   "source": [
    "model.eval()\n",
    "with torch.no_grad():\n",
    "    for i, (clean_sinograms, noisy_sinograms) in enumerate(test_loader):\n",
    "        clean_sinograms = clean_sinograms.to(device).float()\n",
    "        noisy_sinograms = noisy_sinograms.to(device).float()\n",
    "\n",
    "        outputs = model(noisy_sinograms.unsqueeze(1))\n",
    "        loss = criterion(outputs, clean_sinograms.unsqueeze(1))\n",
    "        print(f\"Test Image {i + 1}, Loss: {loss.item():.4f}\")\n"
   ]
  }
 ],
 "metadata": {
  "kernelspec": {
   "display_name": "Python 3 (ipykernel)",
   "language": "python",
   "name": "python3"
  },
  "language_info": {
   "codemirror_mode": {
    "name": "ipython",
    "version": 3
   },
   "file_extension": ".py",
   "mimetype": "text/x-python",
   "name": "python",
   "nbconvert_exporter": "python",
   "pygments_lexer": "ipython3",
   "version": "3.8.10"
  }
 },
 "nbformat": 4,
 "nbformat_minor": 4
}
